{
 "cells": [
  {
   "cell_type": "markdown",
   "metadata": {},
   "source": [
    "# Projeto Risco (VaR e ES)\n",
    "## Turma 780, Alunos:\n",
    "- Alexandre Lima\n",
    "- Mario Cesa\n",
    "- Miguel Prytoluk\n",
    "- Rogerio Penchel\n",
    "### Objetivo: Construção de uma calculadora de retornos e VaR"
   ]
  },
  {
   "cell_type": "markdown",
   "metadata": {},
   "source": [
    "### Bibliotecas utilizadas"
   ]
  },
  {
   "cell_type": "code",
   "execution_count": 1,
   "metadata": {},
   "outputs": [],
   "source": [
    "import numpy as np\n",
    "import pandas as pd\n",
    "\n",
    "# import yfinance as yf\n",
    "import investpy"
   ]
  },
  {
   "cell_type": "markdown",
   "metadata": {},
   "source": [
    "### Baixa dados históricos do US$ dos últimos 5 anos\n",
    "Utilizado nos testes"
   ]
  },
  {
   "cell_type": "code",
   "execution_count": 2,
   "metadata": {},
   "outputs": [
    {
     "data": {
      "text/html": [
       "<div>\n",
       "<style scoped>\n",
       "    .dataframe tbody tr th:only-of-type {\n",
       "        vertical-align: middle;\n",
       "    }\n",
       "\n",
       "    .dataframe tbody tr th {\n",
       "        vertical-align: top;\n",
       "    }\n",
       "\n",
       "    .dataframe thead th {\n",
       "        text-align: right;\n",
       "    }\n",
       "</style>\n",
       "<table border=\"1\" class=\"dataframe\">\n",
       "  <thead>\n",
       "    <tr style=\"text-align: right;\">\n",
       "      <th></th>\n",
       "      <th>Open</th>\n",
       "      <th>High</th>\n",
       "      <th>Low</th>\n",
       "      <th>Close</th>\n",
       "      <th>Currency</th>\n",
       "    </tr>\n",
       "    <tr>\n",
       "      <th>Date</th>\n",
       "      <th></th>\n",
       "      <th></th>\n",
       "      <th></th>\n",
       "      <th></th>\n",
       "      <th></th>\n",
       "    </tr>\n",
       "  </thead>\n",
       "  <tbody>\n",
       "    <tr>\n",
       "      <th>2017-01-02</th>\n",
       "      <td>3.2538</td>\n",
       "      <td>3.2887</td>\n",
       "      <td>3.2516</td>\n",
       "      <td>3.2857</td>\n",
       "      <td>BRL</td>\n",
       "    </tr>\n",
       "    <tr>\n",
       "      <th>2017-01-03</th>\n",
       "      <td>3.2824</td>\n",
       "      <td>3.2929</td>\n",
       "      <td>3.2466</td>\n",
       "      <td>3.2652</td>\n",
       "      <td>BRL</td>\n",
       "    </tr>\n",
       "    <tr>\n",
       "      <th>2017-01-04</th>\n",
       "      <td>3.2517</td>\n",
       "      <td>3.2517</td>\n",
       "      <td>3.2100</td>\n",
       "      <td>3.2163</td>\n",
       "      <td>BRL</td>\n",
       "    </tr>\n",
       "    <tr>\n",
       "      <th>2017-01-05</th>\n",
       "      <td>3.2163</td>\n",
       "      <td>3.2294</td>\n",
       "      <td>3.1928</td>\n",
       "      <td>3.1991</td>\n",
       "      <td>BRL</td>\n",
       "    </tr>\n",
       "    <tr>\n",
       "      <th>2017-01-06</th>\n",
       "      <td>3.1972</td>\n",
       "      <td>3.2241</td>\n",
       "      <td>3.1871</td>\n",
       "      <td>3.2241</td>\n",
       "      <td>BRL</td>\n",
       "    </tr>\n",
       "    <tr>\n",
       "      <th>...</th>\n",
       "      <td>...</td>\n",
       "      <td>...</td>\n",
       "      <td>...</td>\n",
       "      <td>...</td>\n",
       "      <td>...</td>\n",
       "    </tr>\n",
       "    <tr>\n",
       "      <th>2022-02-23</th>\n",
       "      <td>5.0621</td>\n",
       "      <td>5.0621</td>\n",
       "      <td>4.9939</td>\n",
       "      <td>5.0097</td>\n",
       "      <td>BRL</td>\n",
       "    </tr>\n",
       "    <tr>\n",
       "      <th>2022-02-24</th>\n",
       "      <td>5.0050</td>\n",
       "      <td>5.1640</td>\n",
       "      <td>5.0050</td>\n",
       "      <td>5.1231</td>\n",
       "      <td>BRL</td>\n",
       "    </tr>\n",
       "    <tr>\n",
       "      <th>2022-02-25</th>\n",
       "      <td>5.1199</td>\n",
       "      <td>5.1810</td>\n",
       "      <td>5.0785</td>\n",
       "      <td>5.1623</td>\n",
       "      <td>BRL</td>\n",
       "    </tr>\n",
       "    <tr>\n",
       "      <th>2022-02-28</th>\n",
       "      <td>5.1638</td>\n",
       "      <td>5.1654</td>\n",
       "      <td>5.1600</td>\n",
       "      <td>5.1599</td>\n",
       "      <td>BRL</td>\n",
       "    </tr>\n",
       "    <tr>\n",
       "      <th>2022-03-01</th>\n",
       "      <td>5.1605</td>\n",
       "      <td>5.1605</td>\n",
       "      <td>5.1605</td>\n",
       "      <td>5.1605</td>\n",
       "      <td>BRL</td>\n",
       "    </tr>\n",
       "  </tbody>\n",
       "</table>\n",
       "<p>1342 rows × 5 columns</p>\n",
       "</div>"
      ],
      "text/plain": [
       "              Open    High     Low   Close Currency\n",
       "Date                                               \n",
       "2017-01-02  3.2538  3.2887  3.2516  3.2857      BRL\n",
       "2017-01-03  3.2824  3.2929  3.2466  3.2652      BRL\n",
       "2017-01-04  3.2517  3.2517  3.2100  3.2163      BRL\n",
       "2017-01-05  3.2163  3.2294  3.1928  3.1991      BRL\n",
       "2017-01-06  3.1972  3.2241  3.1871  3.2241      BRL\n",
       "...            ...     ...     ...     ...      ...\n",
       "2022-02-23  5.0621  5.0621  4.9939  5.0097      BRL\n",
       "2022-02-24  5.0050  5.1640  5.0050  5.1231      BRL\n",
       "2022-02-25  5.1199  5.1810  5.0785  5.1623      BRL\n",
       "2022-02-28  5.1638  5.1654  5.1600  5.1599      BRL\n",
       "2022-03-01  5.1605  5.1605  5.1605  5.1605      BRL\n",
       "\n",
       "[1342 rows x 5 columns]"
      ]
     },
     "execution_count": 2,
     "metadata": {},
     "output_type": "execute_result"
    }
   ],
   "source": [
    "df_usd = investpy.get_currency_cross_historical_data(\n",
    "        currency_cross=f'USD/BRL',\n",
    "        from_date='01/01/2017',\n",
    "        to_date='31/12/2029')\n",
    "\n",
    "df_usd"
   ]
  },
  {
   "cell_type": "code",
   "execution_count": null,
   "metadata": {},
   "outputs": [],
   "source": []
  },
  {
   "cell_type": "markdown",
   "metadata": {},
   "source": [
    "### Função calcula_retorno\n",
    "\n",
    "Função calcula_retorno(pandas serie_precos, holding_period)\n",
    "\n",
    "Retorna: retorno simples (pd.Dataframe)"
   ]
  },
  {
   "cell_type": "code",
   "execution_count": 25,
   "metadata": {},
   "outputs": [],
   "source": [
    "def calcula_retorno(serie_precos, holding_period):\n",
    "    df = pd.DataFrame()\n",
    "    df['return'] = serie_precos / serie_precos.shift(holding_period) - 1\n",
    "    df['PnL'] = serie_precos - serie_precos.shift(holding_period)\n",
    "    return df"
   ]
  },
  {
   "cell_type": "code",
   "execution_count": 26,
   "metadata": {},
   "outputs": [
    {
     "data": {
      "text/html": [
       "<div>\n",
       "<style scoped>\n",
       "    .dataframe tbody tr th:only-of-type {\n",
       "        vertical-align: middle;\n",
       "    }\n",
       "\n",
       "    .dataframe tbody tr th {\n",
       "        vertical-align: top;\n",
       "    }\n",
       "\n",
       "    .dataframe thead th {\n",
       "        text-align: right;\n",
       "    }\n",
       "</style>\n",
       "<table border=\"1\" class=\"dataframe\">\n",
       "  <thead>\n",
       "    <tr style=\"text-align: right;\">\n",
       "      <th></th>\n",
       "      <th>return</th>\n",
       "      <th>PnL</th>\n",
       "    </tr>\n",
       "    <tr>\n",
       "      <th>Date</th>\n",
       "      <th></th>\n",
       "      <th></th>\n",
       "    </tr>\n",
       "  </thead>\n",
       "  <tbody>\n",
       "    <tr>\n",
       "      <th>2017-01-02</th>\n",
       "      <td>NaN</td>\n",
       "      <td>NaN</td>\n",
       "    </tr>\n",
       "    <tr>\n",
       "      <th>2017-01-03</th>\n",
       "      <td>-0.006239</td>\n",
       "      <td>-0.0205</td>\n",
       "    </tr>\n",
       "    <tr>\n",
       "      <th>2017-01-04</th>\n",
       "      <td>-0.014976</td>\n",
       "      <td>-0.0489</td>\n",
       "    </tr>\n",
       "    <tr>\n",
       "      <th>2017-01-05</th>\n",
       "      <td>-0.005348</td>\n",
       "      <td>-0.0172</td>\n",
       "    </tr>\n",
       "    <tr>\n",
       "      <th>2017-01-06</th>\n",
       "      <td>0.007815</td>\n",
       "      <td>0.0250</td>\n",
       "    </tr>\n",
       "    <tr>\n",
       "      <th>...</th>\n",
       "      <td>...</td>\n",
       "      <td>...</td>\n",
       "    </tr>\n",
       "    <tr>\n",
       "      <th>2022-02-23</th>\n",
       "      <td>-0.009608</td>\n",
       "      <td>-0.0486</td>\n",
       "    </tr>\n",
       "    <tr>\n",
       "      <th>2022-02-24</th>\n",
       "      <td>0.022636</td>\n",
       "      <td>0.1134</td>\n",
       "    </tr>\n",
       "    <tr>\n",
       "      <th>2022-02-25</th>\n",
       "      <td>0.007652</td>\n",
       "      <td>0.0392</td>\n",
       "    </tr>\n",
       "    <tr>\n",
       "      <th>2022-02-28</th>\n",
       "      <td>-0.000465</td>\n",
       "      <td>-0.0024</td>\n",
       "    </tr>\n",
       "    <tr>\n",
       "      <th>2022-03-01</th>\n",
       "      <td>0.000116</td>\n",
       "      <td>0.0006</td>\n",
       "    </tr>\n",
       "  </tbody>\n",
       "</table>\n",
       "<p>1342 rows × 2 columns</p>\n",
       "</div>"
      ],
      "text/plain": [
       "              return     PnL\n",
       "Date                        \n",
       "2017-01-02       NaN     NaN\n",
       "2017-01-03 -0.006239 -0.0205\n",
       "2017-01-04 -0.014976 -0.0489\n",
       "2017-01-05 -0.005348 -0.0172\n",
       "2017-01-06  0.007815  0.0250\n",
       "...              ...     ...\n",
       "2022-02-23 -0.009608 -0.0486\n",
       "2022-02-24  0.022636  0.1134\n",
       "2022-02-25  0.007652  0.0392\n",
       "2022-02-28 -0.000465 -0.0024\n",
       "2022-03-01  0.000116  0.0006\n",
       "\n",
       "[1342 rows x 2 columns]"
      ]
     },
     "execution_count": 26,
     "metadata": {},
     "output_type": "execute_result"
    }
   ],
   "source": [
    "# Testes da função calcula_retorno\n",
    "\n",
    "df_ret = calcula_retorno(df_usd['Close'], 1)\n",
    "df_ret"
   ]
  },
  {
   "cell_type": "markdown",
   "metadata": {},
   "source": [
    "### Função calcula_log_retorno\n",
    "\n",
    "Função calcula_log_retorno(pandas serie_precos, holding_period)\n",
    "\n",
    "Retorna: log-retorno (pd.Dataframe)"
   ]
  },
  {
   "cell_type": "code",
   "execution_count": 30,
   "metadata": {},
   "outputs": [],
   "source": [
    "def calcula_log_retorno(serie_precos, holding_period):\n",
    "    df = calcula_retorno(serie_precos, holding_period)\n",
    "    df['logret'] = np.log(serie_precos/serie_precos.shift(holding_period))\n",
    "    return df"
   ]
  },
  {
   "cell_type": "code",
   "execution_count": 31,
   "metadata": {},
   "outputs": [
    {
     "data": {
      "text/html": [
       "<div>\n",
       "<style scoped>\n",
       "    .dataframe tbody tr th:only-of-type {\n",
       "        vertical-align: middle;\n",
       "    }\n",
       "\n",
       "    .dataframe tbody tr th {\n",
       "        vertical-align: top;\n",
       "    }\n",
       "\n",
       "    .dataframe thead th {\n",
       "        text-align: right;\n",
       "    }\n",
       "</style>\n",
       "<table border=\"1\" class=\"dataframe\">\n",
       "  <thead>\n",
       "    <tr style=\"text-align: right;\">\n",
       "      <th></th>\n",
       "      <th>return</th>\n",
       "      <th>PnL</th>\n",
       "      <th>logret</th>\n",
       "    </tr>\n",
       "    <tr>\n",
       "      <th>Date</th>\n",
       "      <th></th>\n",
       "      <th></th>\n",
       "      <th></th>\n",
       "    </tr>\n",
       "  </thead>\n",
       "  <tbody>\n",
       "    <tr>\n",
       "      <th>2017-01-02</th>\n",
       "      <td>NaN</td>\n",
       "      <td>NaN</td>\n",
       "      <td>NaN</td>\n",
       "    </tr>\n",
       "    <tr>\n",
       "      <th>2017-01-03</th>\n",
       "      <td>-0.006239</td>\n",
       "      <td>-0.0205</td>\n",
       "      <td>-0.006259</td>\n",
       "    </tr>\n",
       "    <tr>\n",
       "      <th>2017-01-04</th>\n",
       "      <td>-0.014976</td>\n",
       "      <td>-0.0489</td>\n",
       "      <td>-0.015089</td>\n",
       "    </tr>\n",
       "    <tr>\n",
       "      <th>2017-01-05</th>\n",
       "      <td>-0.005348</td>\n",
       "      <td>-0.0172</td>\n",
       "      <td>-0.005362</td>\n",
       "    </tr>\n",
       "    <tr>\n",
       "      <th>2017-01-06</th>\n",
       "      <td>0.007815</td>\n",
       "      <td>0.0250</td>\n",
       "      <td>0.007784</td>\n",
       "    </tr>\n",
       "    <tr>\n",
       "      <th>...</th>\n",
       "      <td>...</td>\n",
       "      <td>...</td>\n",
       "      <td>...</td>\n",
       "    </tr>\n",
       "    <tr>\n",
       "      <th>2022-02-23</th>\n",
       "      <td>-0.009608</td>\n",
       "      <td>-0.0486</td>\n",
       "      <td>-0.009654</td>\n",
       "    </tr>\n",
       "    <tr>\n",
       "      <th>2022-02-24</th>\n",
       "      <td>0.022636</td>\n",
       "      <td>0.1134</td>\n",
       "      <td>0.022384</td>\n",
       "    </tr>\n",
       "    <tr>\n",
       "      <th>2022-02-25</th>\n",
       "      <td>0.007652</td>\n",
       "      <td>0.0392</td>\n",
       "      <td>0.007622</td>\n",
       "    </tr>\n",
       "    <tr>\n",
       "      <th>2022-02-28</th>\n",
       "      <td>-0.000465</td>\n",
       "      <td>-0.0024</td>\n",
       "      <td>-0.000465</td>\n",
       "    </tr>\n",
       "    <tr>\n",
       "      <th>2022-03-01</th>\n",
       "      <td>0.000116</td>\n",
       "      <td>0.0006</td>\n",
       "      <td>0.000116</td>\n",
       "    </tr>\n",
       "  </tbody>\n",
       "</table>\n",
       "<p>1342 rows × 3 columns</p>\n",
       "</div>"
      ],
      "text/plain": [
       "              return     PnL    logret\n",
       "Date                                  \n",
       "2017-01-02       NaN     NaN       NaN\n",
       "2017-01-03 -0.006239 -0.0205 -0.006259\n",
       "2017-01-04 -0.014976 -0.0489 -0.015089\n",
       "2017-01-05 -0.005348 -0.0172 -0.005362\n",
       "2017-01-06  0.007815  0.0250  0.007784\n",
       "...              ...     ...       ...\n",
       "2022-02-23 -0.009608 -0.0486 -0.009654\n",
       "2022-02-24  0.022636  0.1134  0.022384\n",
       "2022-02-25  0.007652  0.0392  0.007622\n",
       "2022-02-28 -0.000465 -0.0024 -0.000465\n",
       "2022-03-01  0.000116  0.0006  0.000116\n",
       "\n",
       "[1342 rows x 3 columns]"
      ]
     },
     "execution_count": 31,
     "metadata": {},
     "output_type": "execute_result"
    }
   ],
   "source": [
    "# Testes da função calcula_log_retorno\n",
    "\n",
    "df_logret = calcula_log_retorno(df_usd['Close'], 1)\n",
    "df_logret"
   ]
  },
  {
   "cell_type": "code",
   "execution_count": null,
   "metadata": {},
   "outputs": [],
   "source": []
  },
  {
   "cell_type": "markdown",
   "metadata": {},
   "source": [
    "### Função calcula_var\n",
    "Função: calcula_var(pandas serie_retornos, alpha, vlr_carteira_atual)\n",
    "\n",
    "Retorna: VaR (float)\n"
   ]
  },
  {
   "cell_type": "code",
   "execution_count": 32,
   "metadata": {},
   "outputs": [],
   "source": [
    "def calcula_var(serie_retornos, alpha, vlr_carteira_atual):\n",
    "    return serie_retornos.quantile(alpha)"
   ]
  },
  {
   "cell_type": "code",
   "execution_count": 34,
   "metadata": {},
   "outputs": [
    {
     "name": "stdout",
     "output_type": "stream",
     "text": [
      "VaR 95% || HP 1 || 1000 dias: R$ 0.09\n"
     ]
    }
   ],
   "source": [
    "# Testes da função calcula_var\n",
    "\n",
    "hp = 1\n",
    "df_ret = calcula_retorno(df_usd['Close'], hp)\n",
    "\n",
    "alpha = 0.05\n",
    "dias = 1000\n",
    "VaR = calcula_var(df_ret['PnL'].iloc[-dias:], alpha, 0)\n",
    "\n",
    "print(f'VaR {(1-alpha)*100:0.0f}% || HP {hp} || {dias} dias: R$ {- VaR:.2f}')"
   ]
  },
  {
   "cell_type": "code",
   "execution_count": null,
   "metadata": {},
   "outputs": [],
   "source": []
  },
  {
   "cell_type": "markdown",
   "metadata": {},
   "source": [
    "### Função calcula_es\n",
    "Função: calcula_es(pandas serie_retornos, alpha, vlr_carteira_atual)\n",
    "\n",
    "Retorna VaR (float)"
   ]
  },
  {
   "cell_type": "code",
   "execution_count": 36,
   "metadata": {},
   "outputs": [],
   "source": [
    "def calcula_es(serie_retornos, alpha, vlr_carteira_atual=1):\n",
    "    amostra_es = serie_retornos[serie_retornos <= vlr_carteira_atual]\n",
    "    return amostra_es.mean()*vlr_carteira_atual"
   ]
  },
  {
   "cell_type": "code",
   "execution_count": 37,
   "metadata": {},
   "outputs": [
    {
     "name": "stdout",
     "output_type": "stream",
     "text": [
      "ES 95%, HP 1, 1000 dias: R$ -0.01\n"
     ]
    }
   ],
   "source": [
    "# Testes da função calcula_es\n",
    "\n",
    "hp = 1\n",
    "df_ret = calcula_retorno(df_usd['Close'], hp)\n",
    "\n",
    "alpha = 0.05\n",
    "dias = 1000\n",
    "es = calcula_es(df_ret['PnL'].iloc[-dias:], alpha, VaR)\n",
    "\n",
    "print(f'ES {(1-alpha)*100:0.0f}%, HP {hp}, {dias} dias: R$ {- es:0.2f}')"
   ]
  },
  {
   "cell_type": "code",
   "execution_count": 35,
   "metadata": {},
   "outputs": [
    {
     "data": {
      "text/plain": [
       "Date\n",
       "2018-04-25    0.0136\n",
       "2018-04-26   -0.0095\n",
       "2018-04-27   -0.0187\n",
       "2018-04-30    0.0504\n",
       "2018-05-01    0.0004\n",
       "               ...  \n",
       "2022-02-23   -0.0486\n",
       "2022-02-24    0.1134\n",
       "2022-02-25    0.0392\n",
       "2022-02-28   -0.0024\n",
       "2022-03-01    0.0006\n",
       "Name: PnL, Length: 1000, dtype: float64"
      ]
     },
     "execution_count": 35,
     "metadata": {},
     "output_type": "execute_result"
    }
   ],
   "source": [
    "df_ret['PnL'].iloc[-1000:]"
   ]
  },
  {
   "cell_type": "code",
   "execution_count": null,
   "metadata": {},
   "outputs": [],
   "source": []
  }
 ],
 "metadata": {
  "interpreter": {
   "hash": "faf6c69920549bf4550f22612c1be009aa34314c4fa03cee7be9173d849af02c"
  },
  "kernelspec": {
   "display_name": "Python 3",
   "language": "python",
   "name": "python3"
  },
  "language_info": {
   "codemirror_mode": {
    "name": "ipython",
    "version": 3
   },
   "file_extension": ".py",
   "mimetype": "text/x-python",
   "name": "python",
   "nbconvert_exporter": "python",
   "pygments_lexer": "ipython3",
   "version": "3.8.5"
  }
 },
 "nbformat": 4,
 "nbformat_minor": 4
}
